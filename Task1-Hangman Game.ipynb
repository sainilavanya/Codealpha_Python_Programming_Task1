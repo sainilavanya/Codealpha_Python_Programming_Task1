{
 "cells": [
  {
   "cell_type": "code",
   "execution_count": 1,
   "id": "751a43c6",
   "metadata": {},
   "outputs": [
    {
     "name": "stdout",
     "output_type": "stream",
     "text": [
      "Welcome to Hangman!\n",
      "You have 6 incorrect guesses allowed.\n",
      "\n",
      "Word: _ _ _ _ _ _ _\n"
     ]
    },
    {
     "name": "stdin",
     "output_type": "stream",
     "text": [
      "Guess a letter:  a\n"
     ]
    },
    {
     "name": "stdout",
     "output_type": "stream",
     "text": [
      "Good guess!\n",
      "\n",
      "Word: _ a _ _ _ a _\n"
     ]
    },
    {
     "name": "stdin",
     "output_type": "stream",
     "text": [
      "Guess a letter:  n\n"
     ]
    },
    {
     "name": "stdout",
     "output_type": "stream",
     "text": [
      "Good guess!\n",
      "\n",
      "Word: _ a n _ _ a n\n"
     ]
    },
    {
     "name": "stdin",
     "output_type": "stream",
     "text": [
      "Guess a letter:  g\n"
     ]
    },
    {
     "name": "stdout",
     "output_type": "stream",
     "text": [
      "Good guess!\n",
      "\n",
      "Word: _ a n g _ a n\n"
     ]
    },
    {
     "name": "stdin",
     "output_type": "stream",
     "text": [
      "Guess a letter:  e\n"
     ]
    },
    {
     "name": "stdout",
     "output_type": "stream",
     "text": [
      "Incorrect guess.\n",
      "Incorrect guesses left: 5\n",
      "\n",
      "Word: _ a n g _ a n\n"
     ]
    },
    {
     "name": "stdin",
     "output_type": "stream",
     "text": [
      "Guess a letter:  m\n"
     ]
    },
    {
     "name": "stdout",
     "output_type": "stream",
     "text": [
      "Good guess!\n",
      "\n",
      "Word: _ a n g m a n\n"
     ]
    },
    {
     "name": "stdin",
     "output_type": "stream",
     "text": [
      "Guess a letter:  H\n"
     ]
    },
    {
     "name": "stdout",
     "output_type": "stream",
     "text": [
      "Good guess!\n",
      "\n",
      "Congratulations! You've guessed the word: hangman\n"
     ]
    }
   ],
   "source": [
    "import random\n",
    "\n",
    "def select_random_word():\n",
    "    words = ['python', 'hangman', 'developer', 'coding', 'algorithm']\n",
    "    return random.choice(words)\n",
    "\n",
    "def display_word(word, guessed_letters):\n",
    "    return ' '.join([letter if letter in guessed_letters else '_' for letter in word])\n",
    "\n",
    "def play_hangman():\n",
    "    word = select_random_word()\n",
    "    guessed_letters = []\n",
    "    incorrect_guesses = 0\n",
    "    max_incorrect_guesses = 6\n",
    "\n",
    "    print(\"Welcome to Hangman!\")\n",
    "    print(\"You have\", max_incorrect_guesses, \"incorrect guesses allowed.\")\n",
    "    \n",
    "    while incorrect_guesses < max_incorrect_guesses:\n",
    "        print(\"\\nWord:\", display_word(word, guessed_letters))\n",
    "        guess = input(\"Guess a letter: \").lower()\n",
    "\n",
    "        if guess in guessed_letters:\n",
    "            print(\"You've already guessed that letter.\")\n",
    "        elif guess in word:\n",
    "            print(\"Good guess!\")\n",
    "            guessed_letters.append(guess)\n",
    "        else:\n",
    "            print(\"Incorrect guess.\")\n",
    "            incorrect_guesses += 1\n",
    "            guessed_letters.append(guess)\n",
    "            print(\"Incorrect guesses left:\", max_incorrect_guesses - incorrect_guesses)\n",
    "        \n",
    "        if all(letter in guessed_letters for letter in word):\n",
    "            print(\"\\nCongratulations! You've guessed the word:\", word)\n",
    "            break\n",
    "    else:\n",
    "        print(\"\\nSorry, you've run out of guesses. The word was:\", word)\n",
    "\n",
    "if __name__ == '__main__':\n",
    "    play_hangman()\n"
   ]
  },
  {
   "cell_type": "code",
   "execution_count": null,
   "id": "30e15de2",
   "metadata": {},
   "outputs": [],
   "source": []
  }
 ],
 "metadata": {
  "kernelspec": {
   "display_name": "Python 3 (ipykernel)",
   "language": "python",
   "name": "python3"
  },
  "language_info": {
   "codemirror_mode": {
    "name": "ipython",
    "version": 3
   },
   "file_extension": ".py",
   "mimetype": "text/x-python",
   "name": "python",
   "nbconvert_exporter": "python",
   "pygments_lexer": "ipython3",
   "version": "3.11.7"
  }
 },
 "nbformat": 4,
 "nbformat_minor": 5
}
